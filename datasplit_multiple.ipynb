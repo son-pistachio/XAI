{
 "cells": [
  {
   "cell_type": "code",
   "execution_count": 3,
   "metadata": {},
   "outputs": [
    {
     "name": "stdout",
     "output_type": "stream",
     "text": [
      "Train set size: 21820\n",
      "Validation set size: 10875\n",
      "Test set size: 76466\n"
     ]
    }
   ],
   "source": [
    "import pandas as pd\n",
    "import glob\n",
    "import os\n",
    "from iterstrat.ml_stratifiers import MultilabelStratifiedShuffleSplit\n",
    "\n",
    "# 설정 변수\n",
    "random_state = 12\n",
    "mlrsnet_root = '/home/son/ml/datasets/MLRSNet'      # MLRSNet 데이터셋의 루트 디렉토리 위치\n",
    "output_dir = '/home/son/ml/xai/split_data'   # CSV 파일 저장 경로 설정\n",
    "\n",
    "labels_dir = os.path.join(mlrsnet_root, 'Labels')\n",
    "\n",
    "label_files = glob.glob(os.path.join(labels_dir, '*.csv'))\n",
    "\n",
    "all_labels_df = pd.DataFrame()\n",
    "\n",
    "for file in label_files:\n",
    "    df = pd.read_csv(file)\n",
    "    class_name = os.path.splitext(os.path.basename(file))[0]\n",
    "    df['image'] = df['image'].apply(lambda x: os.path.join('Images', class_name, x))\n",
    "    all_labels_df = pd.concat([all_labels_df, df], ignore_index=True)\n",
    "\n",
    "# 이미지 경로에 MLRSNet 루트 경로를 추가\n",
    "all_labels_df['image'] = all_labels_df['image'].apply(lambda x: os.path.join(mlrsnet_root, x))\n",
    "\n",
    "# 레이블 데이터 준비\n",
    "X = all_labels_df['image'].values\n",
    "y = all_labels_df.iloc[:, 1:].values  # 레이블 컬럼들\n",
    "\n",
    "# 데이터 분할 비율 설정 (예: 40% train, 10% val, 50% test)\n",
    "train_ratio = 0.2\n",
    "val_ratio = 0.1\n",
    "test_ratio = 0.7\n",
    "\n",
    "# 첫 번째 분할: Train과 Temp(Val+Test)\n",
    "msss = MultilabelStratifiedShuffleSplit(n_splits=1, test_size=(1 - train_ratio), random_state=random_state)\n",
    "for train_index, temp_index in msss.split(X, y):\n",
    "    X_train, X_temp = X[train_index], X[temp_index]\n",
    "    y_train, y_temp = y[train_index], y[temp_index]\n",
    "\n",
    "# 두 번째 분할: Val과 Test\n",
    "val_ratio_adjusted = val_ratio / (val_ratio + test_ratio)  # Temp 데이터에서의 비율\n",
    "msss = MultilabelStratifiedShuffleSplit(n_splits=1, test_size=(test_ratio / (val_ratio + test_ratio)), random_state=random_state)\n",
    "for val_index, test_index in msss.split(X_temp, y_temp):\n",
    "    X_val, X_test = X_temp[val_index], X_temp[test_index]\n",
    "    y_val, y_test = y_temp[val_index], y_temp[test_index]\n",
    "\n",
    "# 데이터프레임 재구성\n",
    "train_df = pd.DataFrame(X_train, columns=['image'])\n",
    "train_labels_df = pd.DataFrame(y_train, columns=all_labels_df.columns[1:])\n",
    "train_df = pd.concat([train_df, train_labels_df], axis=1)\n",
    "\n",
    "val_df = pd.DataFrame(X_val, columns=['image'])\n",
    "val_labels_df = pd.DataFrame(y_val, columns=all_labels_df.columns[1:])\n",
    "val_df = pd.concat([val_df, val_labels_df], axis=1)\n",
    "\n",
    "test_df = pd.DataFrame(X_test, columns=['image'])\n",
    "test_labels_df = pd.DataFrame(y_test, columns=all_labels_df.columns[1:])\n",
    "test_df = pd.concat([test_df, test_labels_df], axis=1)\n",
    "\n",
    "print(f\"Train set size: {len(train_df)}\")\n",
    "print(f\"Validation set size: {len(val_df)}\")\n",
    "print(f\"Test set size: {len(test_df)}\")\n",
    "\n",
    "# CSV 파일로 저장\n",
    "train_df.to_csv(os.path.join(output_dir, 'train.csv'), index=False)\n",
    "val_df.to_csv(os.path.join(output_dir, 'val.csv'), index=False)\n",
    "test_df.to_csv(os.path.join(output_dir, 'test.csv'), index=False)\n"
   ]
  },
  {
   "cell_type": "code",
   "execution_count": null,
   "metadata": {},
   "outputs": [],
   "source": []
  }
 ],
 "metadata": {
  "kernelspec": {
   "display_name": "xai",
   "language": "python",
   "name": "python3"
  },
  "language_info": {
   "codemirror_mode": {
    "name": "ipython",
    "version": 3
   },
   "file_extension": ".py",
   "mimetype": "text/x-python",
   "name": "python",
   "nbconvert_exporter": "python",
   "pygments_lexer": "ipython3",
   "version": "3.10.14"
  }
 },
 "nbformat": 4,
 "nbformat_minor": 2
}
